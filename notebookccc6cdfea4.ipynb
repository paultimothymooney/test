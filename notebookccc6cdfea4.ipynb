{
 "cells": [
  {
   "cell_type": "code",
   "execution_count": 1,
   "id": "924d41f1",
   "metadata": {
    "_cell_guid": "b1076dfc-b9ad-4769-8c92-a6c4dae69d19",
    "_uuid": "8f2839f25d086af736a60e9eeb907d3b93b6e0e5",
    "execution": {
     "iopub.execute_input": "2022-02-14T16:19:03.237085Z",
     "iopub.status.busy": "2022-02-14T16:19:03.235412Z",
     "iopub.status.idle": "2022-02-14T16:19:03.238409Z",
     "shell.execute_reply": "2022-02-14T16:19:03.237694Z",
     "shell.execute_reply.started": "2022-02-14T16:15:38.707556Z"
    },
    "papermill": {
     "duration": 0.015062,
     "end_time": "2022-02-14T16:19:03.238602",
     "exception": false,
     "start_time": "2022-02-14T16:19:03.223540",
     "status": "completed"
    },
    "tags": []
   },
   "outputs": [],
   "source": [
    "# for testing purposes"
   ]
  },
  {
   "cell_type": "code",
   "execution_count": null,
   "id": "906af1e6",
   "metadata": {
    "papermill": {
     "duration": 0.002775,
     "end_time": "2022-02-14T16:19:03.245354",
     "exception": false,
     "start_time": "2022-02-14T16:19:03.242579",
     "status": "completed"
    },
    "tags": []
   },
   "outputs": [],
   "source": []
  }
 ],
 "metadata": {
  "kernelspec": {
   "display_name": "Python 3",
   "language": "python",
   "name": "python3"
  },
  "language_info": {
   "codemirror_mode": {
    "name": "ipython",
    "version": 3
   },
   "file_extension": ".py",
   "mimetype": "text/x-python",
   "name": "python",
   "nbconvert_exporter": "python",
   "pygments_lexer": "ipython3",
   "version": "3.7.12"
  },
  "papermill": {
   "default_parameters": {},
   "duration": 10.908724,
   "end_time": "2022-02-14T16:19:04.060892",
   "environment_variables": {},
   "exception": null,
   "input_path": "__notebook__.ipynb",
   "output_path": "__notebook__.ipynb",
   "parameters": {},
   "start_time": "2022-02-14T16:18:53.152168",
   "version": "2.3.3"
  }
 },
 "nbformat": 4,
 "nbformat_minor": 5
}
