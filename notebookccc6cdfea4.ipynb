{
 "cells": [
  {
   "cell_type": "code",
   "execution_count": 1,
   "id": "1181f318",
   "metadata": {
    "_cell_guid": "b1076dfc-b9ad-4769-8c92-a6c4dae69d19",
    "_uuid": "8f2839f25d086af736a60e9eeb907d3b93b6e0e5",
    "execution": {
     "iopub.execute_input": "2022-01-29T00:36:58.660114Z",
     "iopub.status.busy": "2022-01-29T00:36:58.658311Z",
     "iopub.status.idle": "2022-01-29T00:36:58.661379Z",
     "shell.execute_reply": "2022-01-29T00:36:58.661946Z"
    },
    "papermill": {
     "duration": 0.013788,
     "end_time": "2022-01-29T00:36:58.662241",
     "exception": false,
     "start_time": "2022-01-29T00:36:58.648453",
     "status": "completed"
    },
    "tags": []
   },
   "outputs": [],
   "source": [
    "# for testing purposes"
   ]
  }
 ],
 "metadata": {
  "kernelspec": {
   "display_name": "Python 3",
   "language": "python",
   "name": "python3"
  },
  "language_info": {
   "codemirror_mode": {
    "name": "ipython",
    "version": 3
   },
   "file_extension": ".py",
   "mimetype": "text/x-python",
   "name": "python",
   "nbconvert_exporter": "python",
   "pygments_lexer": "ipython3",
   "version": "3.7.12"
  },
  "papermill": {
   "default_parameters": {},
   "duration": 11.085536,
   "end_time": "2022-01-29T00:36:59.274996",
   "environment_variables": {},
   "exception": null,
   "input_path": "__notebook__.ipynb",
   "output_path": "__notebook__.ipynb",
   "parameters": {},
   "start_time": "2022-01-29T00:36:48.189460",
   "version": "2.3.3"
  }
 },
 "nbformat": 4,
 "nbformat_minor": 5
}
