{
 "cells": [
  {
   "cell_type": "code",
   "execution_count": 1,
   "id": "414f17a6",
   "metadata": {
    "_cell_guid": "b1076dfc-b9ad-4769-8c92-a6c4dae69d19",
    "_uuid": "8f2839f25d086af736a60e9eeb907d3b93b6e0e5",
    "execution": {
     "iopub.execute_input": "2022-01-29T00:35:06.273924Z",
     "iopub.status.busy": "2022-01-29T00:35:06.272301Z",
     "iopub.status.idle": "2022-01-29T00:35:06.276580Z",
     "shell.execute_reply": "2022-01-29T00:35:06.277112Z"
    },
    "papermill": {
     "duration": 0.012818,
     "end_time": "2022-01-29T00:35:06.277418",
     "exception": false,
     "start_time": "2022-01-29T00:35:06.264600",
     "status": "completed"
    },
    "tags": []
   },
   "outputs": [],
   "source": [
    "# for testing purposes"
   ]
  }
 ],
 "metadata": {
  "kernelspec": {
   "display_name": "Python 3",
   "language": "python",
   "name": "python3"
  },
  "language_info": {
   "codemirror_mode": {
    "name": "ipython",
    "version": 3
   },
   "file_extension": ".py",
   "mimetype": "text/x-python",
   "name": "python",
   "nbconvert_exporter": "python",
   "pygments_lexer": "ipython3",
   "version": "3.7.12"
  },
  "papermill": {
   "default_parameters": {},
   "duration": 8.99985,
   "end_time": "2022-01-29T00:35:06.889119",
   "environment_variables": {},
   "exception": null,
   "input_path": "__notebook__.ipynb",
   "output_path": "__notebook__.ipynb",
   "parameters": {},
   "start_time": "2022-01-29T00:34:57.889269",
   "version": "2.3.3"
  }
 },
 "nbformat": 4,
 "nbformat_minor": 5
}
